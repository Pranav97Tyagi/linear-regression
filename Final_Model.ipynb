{
  "nbformat": 4,
  "nbformat_minor": 0,
  "metadata": {
    "colab": {
      "provenance": [],
      "gpuType": "T4",
      "authorship_tag": "ABX9TyPYZaHJhHmFGt11mM1ZIoRL",
      "include_colab_link": true
    },
    "kernelspec": {
      "name": "python3",
      "display_name": "Python 3"
    },
    "language_info": {
      "name": "python"
    },
    "accelerator": "GPU"
  },
  "cells": [
    {
      "cell_type": "markdown",
      "metadata": {
        "id": "view-in-github",
        "colab_type": "text"
      },
      "source": [
        "<a href=\"https://colab.research.google.com/github/PranavTyagi00/linear-regression/blob/master/Final_Model.ipynb\" target=\"_parent\"><img src=\"https://colab.research.google.com/assets/colab-badge.svg\" alt=\"Open In Colab\"/></a>"
      ]
    },
    {
      "cell_type": "code",
      "source": [
        "# Import library\n",
        "import os\n",
        "import io\n",
        "import json\n",
        "import torch\n",
        "from torchvision import transforms\n",
        "from PIL import Image\n",
        "import glob\n",
        "import pandas as pd"
      ],
      "metadata": {
        "id": "lH7NOaEFnb1f"
      },
      "execution_count": null,
      "outputs": []
    },
    {
      "cell_type": "code",
      "source": [
        "!pip install -q efficientnet_pytorch\n",
        "from efficientnet_pytorch import EfficientNet"
      ],
      "metadata": {
        "id": "nLSumJ4JxCFp"
      },
      "execution_count": null,
      "outputs": []
    },
    {
      "cell_type": "code",
      "source": [
        "# Mount Google Drive\n",
        "from google.colab import drive\n",
        "drive.mount('/content/drive')"
      ],
      "metadata": {
        "colab": {
          "base_uri": "https://localhost:8080/"
        },
        "id": "00PFSH2-nb44",
        "outputId": "985d48ae-bcf6-4f06-ee18-4659b715f393"
      },
      "execution_count": null,
      "outputs": [
        {
          "output_type": "stream",
          "name": "stdout",
          "text": [
            "Drive already mounted at /content/drive; to attempt to forcibly remount, call drive.mount(\"/content/drive\", force_remount=True).\n"
          ]
        }
      ]
    },
    {
      "cell_type": "code",
      "source": [
        "root_dir   = \"/content/drive/My Drive/Colab Notebooks/\"\n",
        "model_path = os.path.join(root_dir, \"roof_model.pth\")\n",
        "label_map  = os.path.join(root_dir, \"label_map.json\")\n",
        "device     = torch.device(\"cuda\" if torch.cuda.is_available() else \"cpu\")"
      ],
      "metadata": {
        "id": "4PQEY2nzq3rq"
      },
      "execution_count": null,
      "outputs": []
    },
    {
      "cell_type": "code",
      "source": [
        "with open(label_map, \"r\") as f:\n",
        "    label_to_index = json.load(f)\n",
        "idx_to_name  = {v:k for k,v in label_to_index.items()}"
      ],
      "metadata": {
        "id": "JekZqvWlq3uT"
      },
      "execution_count": null,
      "outputs": []
    },
    {
      "cell_type": "code",
      "source": [
        "# Recreate EfficientNet-B3 classifier\n",
        "n_classes = len(label_to_index)\n",
        "model = EfficientNet.from_name(\"efficientnet-b3\", num_classes=n_classes)"
      ],
      "metadata": {
        "id": "vY3Ytxi6q3wv"
      },
      "execution_count": null,
      "outputs": []
    },
    {
      "cell_type": "code",
      "source": [
        "# Load the saved weights\n",
        "state_dict = torch.load(model_path, map_location=device)\n",
        "model.load_state_dict(state_dict)"
      ],
      "metadata": {
        "colab": {
          "base_uri": "https://localhost:8080/"
        },
        "id": "Sh-h_2F1q3zT",
        "outputId": "923d0449-ccb6-43f2-813f-52469eb17c76"
      },
      "execution_count": null,
      "outputs": [
        {
          "output_type": "execute_result",
          "data": {
            "text/plain": [
              "<All keys matched successfully>"
            ]
          },
          "metadata": {},
          "execution_count": 7
        }
      ]
    },
    {
      "cell_type": "code",
      "source": [
        "# Move to GPU/CPU and set to eval mode\n",
        "model = model.to(device)\n",
        "_ = model.eval()"
      ],
      "metadata": {
        "id": "XJ26je40q32g"
      },
      "execution_count": null,
      "outputs": []
    },
    {
      "cell_type": "code",
      "source": [
        "infer_transforms = transforms.Compose([\n",
        "    transforms.Resize(256),\n",
        "    transforms.CenterCrop(224),\n",
        "    transforms.ToTensor(),\n",
        "    transforms.Normalize([0.485,0.456,0.406],\n",
        "                         [0.229,0.224,0.225])\n",
        "])"
      ],
      "metadata": {
        "id": "jBxiM9J4wo8_"
      },
      "execution_count": null,
      "outputs": []
    },
    {
      "cell_type": "code",
      "source": [
        "def classify_roof(image_bytes: bytes) -> str:\n",
        "    \"\"\"Return predicted roof type\"\"\"\n",
        "    img = Image.open(io.BytesIO(image_bytes)).convert(\"RGB\")\n",
        "    tensor = infer_transforms(img).unsqueeze(0).to(device)\n",
        "    with torch.no_grad():\n",
        "        logits = model(tensor)\n",
        "    idx = logits.argmax(dim=1).item()\n",
        "    return idx_to_name[idx]"
      ],
      "metadata": {
        "id": "KYbXbS9nwrnw"
      },
      "execution_count": null,
      "outputs": []
    },
    {
      "cell_type": "markdown",
      "source": [
        "# **Model Testing**"
      ],
      "metadata": {
        "id": "OvVJuTqoeUJJ"
      }
    },
    {
      "cell_type": "code",
      "source": [
        "root_dir    = \"/content/drive/My Drive/Colab Notebooks\"\n",
        "test_dir    = os.path.join(root_dir, \"test_images\")\n",
        "image_paths = sorted(glob.glob(os.path.join(test_dir, \"*.png\")))[:10]"
      ],
      "metadata": {
        "id": "F5nd5Sf5zQ72"
      },
      "execution_count": null,
      "outputs": []
    },
    {
      "cell_type": "code",
      "source": [
        "results = []\n",
        "for path in image_paths:\n",
        "    with open(path, \"rb\") as f:\n",
        "        img_bytes = f.read()\n",
        "    pred = classify_roof(img_bytes)\n",
        "    results.append({\n",
        "        \"filename\": os.path.basename(path),\n",
        "        \"prediction\": pred\n",
        "    })\n"
      ],
      "metadata": {
        "id": "wZve9qTWzQ_W"
      },
      "execution_count": null,
      "outputs": []
    },
    {
      "cell_type": "code",
      "source": [
        "df = pd.DataFrame(results)\n",
        "print(df)"
      ],
      "metadata": {
        "colab": {
          "base_uri": "https://localhost:8080/"
        },
        "id": "N69CL6DnclE1",
        "outputId": "0b5cebac-c904-443a-b14d-e81265b1bfb3"
      },
      "execution_count": null,
      "outputs": [
        {
          "output_type": "stream",
          "name": "stdout",
          "text": [
            "                           filename    prediction\n",
            "0  Screenshot 2025-05-01 015834.png      Hip Roof\n",
            "1  Screenshot 2025-05-01 015917.png     Flat Roof\n",
            "2  Screenshot 2025-05-01 015952.png      Hip Roof\n",
            "3  Screenshot 2025-05-01 020012.png     Flat Roof\n",
            "4  Screenshot 2025-05-01 020031.png  Complex Roof\n",
            "5  Screenshot 2025-05-01 020051.png      Hip Roof\n",
            "6  Screenshot 2025-05-01 020144.png  Complex Roof\n",
            "7  Screenshot 2025-05-01 020215.png  Complex Roof\n",
            "8  Screenshot 2025-05-01 020226.png     Flat Roof\n",
            "9  Screenshot 2025-05-01 020243.png  Complex Roof\n"
          ]
        }
      ]
    },
    {
      "cell_type": "code",
      "source": [],
      "metadata": {
        "id": "kZKgDQOCclIV"
      },
      "execution_count": null,
      "outputs": []
    }
  ]
}