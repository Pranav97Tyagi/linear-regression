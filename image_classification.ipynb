{
  "nbformat": 4,
  "nbformat_minor": 0,
  "metadata": {
    "colab": {
      "provenance": [],
      "include_colab_link": true
    },
    "kernelspec": {
      "name": "python3",
      "display_name": "Python 3"
    },
    "language_info": {
      "name": "python"
    }
  },
  "cells": [
    {
      "cell_type": "markdown",
      "metadata": {
        "id": "view-in-github",
        "colab_type": "text"
      },
      "source": [
        "<a href=\"https://colab.research.google.com/github/Pranav97Tyagi/linear-regression/blob/master/image_classification.ipynb\" target=\"_parent\"><img src=\"https://colab.research.google.com/assets/colab-badge.svg\" alt=\"Open In Colab\"/></a>"
      ]
    },
    {
      "cell_type": "markdown",
      "source": [
        "**NOTE- In Germany, the most common roof types are pitched roofs, specifically gable and hip roofs, followed by flat roofs**\n",
        "\n",
        "Roof types:\n",
        "\n",
        "Flat Roof – Minimal slope, common in commercial buildings.\n",
        "\n",
        "Pitched Roof – Sloped surfaces, common in residential houses.\n",
        "\n",
        "Gable Roof – Two sloped sides forming a triangular shape.\n",
        "\n",
        "Dormer Roof: Subtype of Grable Roofs\n",
        "\n",
        "Hip Roof – Slopes on all four sides.\n",
        "\n",
        "Complex Roof – Irregular shapes with multiple slopes."
      ],
      "metadata": {
        "id": "_FEt_4kEJcVP"
      }
    },
    {
      "cell_type": "code",
      "source": [
        "# Library\n",
        "import os\n",
        "import pandas as pd\n",
        "import numpy as np\n",
        "import torch\n",
        "import torchvision\n",
        "from torchvision import transforms, models\n",
        "from torch.utils.data import Dataset, DataLoader\n",
        "from sklearn.metrics import classification_report, confusion_matrix\n",
        "import matplotlib.pyplot as plt\n",
        "import seaborn as sns\n",
        "from PIL import Image\n",
        "\n",
        "# Mount Google Drive\n",
        "from google.colab import drive\n",
        "drive.mount('/content/drive')"
      ],
      "metadata": {
        "id": "omrMQ7iOEt4D",
        "colab": {
          "base_uri": "https://localhost:8080/"
        },
        "outputId": "d5764ea6-0282-49df-9229-115f3b178489"
      },
      "execution_count": null,
      "outputs": [
        {
          "output_type": "stream",
          "name": "stdout",
          "text": [
            "Drive already mounted at /content/drive; to attempt to forcibly remount, call drive.mount(\"/content/drive\", force_remount=True).\n"
          ]
        }
      ]
    },
    {
      "cell_type": "code",
      "source": [
        "# Load image folder\n",
        "root_dir = \"/content/drive/My Drive/Colab Notebooks/\""
      ],
      "metadata": {
        "id": "zYPrvxzVJFul"
      },
      "execution_count": null,
      "outputs": []
    },
    {
      "cell_type": "code",
      "source": [
        "# path to labeled dataset\n",
        "label_csv = os.path.join(root_dir, \"labels.csv\")\n",
        "image_dir = os.path.join(root_dir, \"images\")\n",
        "# training parameters\n",
        "batch_sz = 32\n",
        "n_classes = 6\n",
        "epochs = 10\n",
        "# Use GPU if available, otherwise CPU\n",
        "device = torch.device(\"cuda\" if torch.cuda.is_available() else \"cpu\")"
      ],
      "metadata": {
        "id": "MG85yh-A-8ld"
      },
      "execution_count": null,
      "outputs": []
    },
    {
      "cell_type": "code",
      "source": [
        "# Class for loading roof image and labels\n",
        "class RoofImageDataset(Dataset):\n",
        "    def __init__(self, csv_path, img_dir, transform=None):\n",
        "        # Load the CSV file\n",
        "        self.data = pd.read_csv(csv_path)\n",
        "        # Store the path to the folder containing all the images\n",
        "        self.img_dir = img_dir\n",
        "        # Store the image transformation\n",
        "        self.transform = transform\n",
        "\n",
        "    def __len__(self):\n",
        "        # Return the total number in the dataset\n",
        "        return len(self.data)\n",
        "\n",
        "    def __getitem__(self, index):\n",
        "        # Create path using image folder and imagename from CSV\n",
        "        filename = os.path.join(self.img_dir, self.data.iloc[index, 0])\n",
        "        label = self.data.iloc[index, 1]\n",
        "        label_index = label_to_index[label]\n",
        "\n",
        "        # Open the image and convert it to RGB format\n",
        "        image = Image.open(filename).convert(\"RGB\")\n",
        "        # Apply transformations\n",
        "        if self.transform:\n",
        "            image = self.transform(image)\n",
        "        # Return the transformed image and numeric values\n",
        "        return image, label_index"
      ],
      "metadata": {
        "id": "yS51G16h-8zP"
      },
      "execution_count": null,
      "outputs": []
    },
    {
      "cell_type": "code",
      "source": [
        "# Load the CSV file\n",
        "data_df = pd.read_csv(label_csv)\n",
        "\n",
        "# Extract and sort unique roof types\n",
        "class_names = sorted(data_df['label'].unique())\n",
        "# Mapping label to a unique index\n",
        "label_to_index = {name: i for i, name in enumerate(class_names)}\n",
        "\n",
        "# Reverse dictionary\n",
        "index_to_label = {i: name for name, i in label_to_index.items()}"
      ],
      "metadata": {
        "id": "fwgrJSDN_Fdy"
      },
      "execution_count": null,
      "outputs": []
    },
    {
      "cell_type": "markdown",
      "source": [
        "Neural networks understand numbers, we convert text labels to numbers using label_to_index before training, and convert predictions back to text using index_to_label during evaluation."
      ],
      "metadata": {
        "id": "wQHgznPIT2oF"
      }
    },
    {
      "cell_type": "code",
      "source": [
        "# Prepare images for the neural network\n",
        "image_transforms = transforms.Compose([\n",
        "    transforms.Resize((224, 224)),\n",
        "    # Convert images from PIL format to PyTorch tensors\n",
        "    transforms.ToTensor(),\n",
        "    # Normalize images\n",
        "    transforms.Normalize([0.485, 0.456, 0.406], [0.229, 0.224, 0.225])\n",
        "])"
      ],
      "metadata": {
        "id": "pIjK3WuE_FgT"
      },
      "execution_count": null,
      "outputs": []
    },
    {
      "cell_type": "code",
      "source": [
        "# Load Labeled Data\n",
        "roof_dataset = RoofImageDataset(label_csv, image_dir, transform=image_transforms)\n",
        "roof_loader = DataLoader(roof_dataset, batch_size=batch_sz, shuffle=True)\n",
        "\n",
        "\n",
        "# Load ResNet-34 Mode\n",
        "cnn_model = models.resnet34(pretrained=True)\n",
        "# Replace the fina layer to match the number of output classes (6)\n",
        "cnn_model.fc = torch.nn.Linear(cnn_model.fc.in_features, n_classes)\n",
        "# Use GPU if available, otherwise use CPU\n",
        "cnn_model = cnn_model.to(device)\n",
        "\n",
        "\n",
        "# Define the Loss Function\n",
        "loss_fn = torch.nn.CrossEntropyLoss()\n",
        "\n",
        "# Optimizer to update model weights\n",
        "optimizer = torch.optim.Adam(cnn_model.parameters(), lr=0.0003)"
      ],
      "metadata": {
        "colab": {
          "base_uri": "https://localhost:8080/"
        },
        "id": "7BaFiEyo_Fiu",
        "outputId": "5a352c04-80bd-402c-b44c-f9531a32af8c"
      },
      "execution_count": null,
      "outputs": [
        {
          "output_type": "stream",
          "name": "stderr",
          "text": [
            "/usr/local/lib/python3.11/dist-packages/torchvision/models/_utils.py:208: UserWarning: The parameter 'pretrained' is deprecated since 0.13 and may be removed in the future, please use 'weights' instead.\n",
            "  warnings.warn(\n",
            "/usr/local/lib/python3.11/dist-packages/torchvision/models/_utils.py:223: UserWarning: Arguments other than a weight enum or `None` for 'weights' are deprecated since 0.13 and may be removed in the future. The current behavior is equivalent to passing `weights=ResNet34_Weights.IMAGENET1K_V1`. You can also use `weights=ResNet34_Weights.DEFAULT` to get the most up-to-date weights.\n",
            "  warnings.warn(msg)\n",
            "Downloading: \"https://download.pytorch.org/models/resnet34-b627a593.pth\" to /root/.cache/torch/hub/checkpoints/resnet34-b627a593.pth\n",
            "100%|██████████| 83.3M/83.3M [00:01<00:00, 50.6MB/s]\n"
          ]
        }
      ]
    },
    {
      "cell_type": "code",
      "source": [
        "# Train the model\n",
        "for epoch in range(epochs):\n",
        "    # model to training mode\n",
        "    cnn_model.train()\n",
        "    # Initialize variables for los, correct, count\n",
        "    total_loss, total_correct, total_samples = 0, 0, 0\n",
        "\n",
        "    for imgs, lbls in roof_loader:\n",
        "        imgs, lbls = imgs.to(device), lbls.to(device)\n",
        "        # Clear gradients\n",
        "        optimizer.zero_grad()\n",
        "        # Get predictions\n",
        "        preds = cnn_model(imgs)\n",
        "        # Calculate the loss between predictions and true labels\n",
        "        loss = loss_fn(preds, lbls)\n",
        "        loss.backward()\n",
        "        optimizer.step()\n",
        "        # Update running totals\n",
        "        total_loss += loss.item()\n",
        "        _, predicted = torch.max(preds.data, 1)\n",
        "        total_samples += lbls.size(0)\n",
        "        total_correct += (predicted == lbls).sum().item()\n",
        "    # Print epoch summary\n",
        "    print(f\"Epoch [{epoch+1}/{epochs}] - Loss: {total_loss/len(roof_loader):.4f} - Accuracy: {100*total_correct/total_samples:.2f}%\")\n"
      ],
      "metadata": {
        "colab": {
          "base_uri": "https://localhost:8080/"
        },
        "id": "ZzzcRQpt_Fnd",
        "outputId": "f768e9c4-0bab-43f7-f486-29d842b5590e"
      },
      "execution_count": null,
      "outputs": [
        {
          "output_type": "stream",
          "name": "stdout",
          "text": [
            "Epoch [1/10] - Loss: 1.8529 - Accuracy: 21.28%\n",
            "Epoch [2/10] - Loss: 0.2362 - Accuracy: 100.00%\n",
            "Epoch [3/10] - Loss: 0.1117 - Accuracy: 100.00%\n",
            "Epoch [4/10] - Loss: 0.0315 - Accuracy: 100.00%\n",
            "Epoch [5/10] - Loss: 0.0172 - Accuracy: 100.00%\n",
            "Epoch [6/10] - Loss: 0.0276 - Accuracy: 100.00%\n",
            "Epoch [7/10] - Loss: 0.0092 - Accuracy: 100.00%\n",
            "Epoch [8/10] - Loss: 0.0051 - Accuracy: 100.00%\n",
            "Epoch [9/10] - Loss: 0.0044 - Accuracy: 100.00%\n",
            "Epoch [10/10] - Loss: 0.0029 - Accuracy: 100.00%\n"
          ]
        }
      ]
    },
    {
      "cell_type": "code",
      "source": [
        "# Set model to evaluation mode\n",
        "cnn_model.eval()\n",
        "\n",
        "# lists to collect true and predicted labels\n",
        "y_true, y_pred = [], []\n",
        "\n",
        "# Disable gradient calculations\n",
        "with torch.no_grad():\n",
        "    for imgs, lbls in roof_loader:\n",
        "        # Move images and labels to GPU\n",
        "        imgs, lbls = imgs.to(device), lbls.to(device)\n",
        "        # Model predictions\n",
        "        outputs = cnn_model(imgs)\n",
        "        # Predicted class with highest score\n",
        "        _, preds = torch.max(outputs, 1)\n",
        "        # ave true and predicted labels\n",
        "        y_true.extend(lbls.cpu().numpy())\n",
        "        y_pred.extend(preds.cpu().numpy())\n",
        "\n",
        "# Get sorted list of label indices\n",
        "present_indices = sorted(set(y_true + y_pred))\n",
        "\n",
        "# Map indices back to label names\n",
        "present_names = [index_to_label[i] for i in present_indices]\n",
        "\n",
        "# Print classification report\n",
        "print(classification_report(y_true, y_pred,\n",
        "                            labels=present_indices,\n",
        "                            target_names=present_names,\n",
        "                            zero_division=0))\n",
        "\n",
        "# Generate confusion matrix\n",
        "cm = confusion_matrix(y_true, y_pred, labels=present_indices)\n",
        "\n",
        "# Plot confusion matrix\n",
        "sns.heatmap(cm, annot=True, fmt='d', xticklabels=present_names,\n",
        "            yticklabels=present_names,\n",
        "            cmap='Blues')\n",
        "plt.xlabel('Predicted')\n",
        "plt.ylabel('Actual')\n",
        "plt.title('Confusion Matrix')\n",
        "plt.show()"
      ],
      "metadata": {
        "colab": {
          "base_uri": "https://localhost:8080/",
          "height": 780
        },
        "id": "PG7TRTDC_FqN",
        "outputId": "6b70a882-b7be-4b66-b472-4e4415fe34d7"
      },
      "execution_count": null,
      "outputs": [
        {
          "output_type": "stream",
          "name": "stdout",
          "text": [
            "              precision    recall  f1-score   support\n",
            "\n",
            "Complex Roof       1.00      1.00      1.00         3\n",
            " Dormer Roof       1.00      1.00      1.00         4\n",
            "   Flat Roof       1.00      1.00      1.00        16\n",
            "  Gable Roof       1.00      1.00      1.00         7\n",
            "    Hip Roof       1.00      1.00      1.00         8\n",
            "Pitched Roof       1.00      1.00      1.00         9\n",
            "\n",
            "    accuracy                           1.00        47\n",
            "   macro avg       1.00      1.00      1.00        47\n",
            "weighted avg       1.00      1.00      1.00        47\n",
            "\n"
          ]
        },
        {
          "output_type": "display_data",
          "data": {
            "text/plain": [
              "<Figure size 640x480 with 2 Axes>"
            ],
            "image/png": "[encoded data removed]"
          },
          "metadata": {}
        }
      ]
    },
    {
      "cell_type": "code",
      "source": [
        "# Save the trained model\n",
        "torch.save(cnn_model.state_dict(), os.path.join(root_dir, \"resnet34_roof_model.pth\"))"
      ],
      "metadata": {
        "id": "Y2XW-4Y8_Ftx"
      },
      "execution_count": null,
      "outputs": []
    },
    {
      "cell_type": "code",
      "source": [
        "# Class for loading unlabeled roof image\n",
        "class Unlabeled_Dataset(Dataset):\n",
        "    def __init__(self, img_dir, transform=None):\n",
        "        # directory containing the unlabeled images\n",
        "        self.img_dir = img_dir\n",
        "        # List all image files in the directory\n",
        "        self.img_files = [f for f in os.listdir(img_dir) if f.endswith(('.png', '.jpg', '.jpeg'))]\n",
        "        # Store the image transformation\n",
        "        self.transform = transform\n",
        "\n",
        "    def __len__(self):\n",
        "        # Return the total number of image files\n",
        "        return len(self.img_files)\n",
        "\n",
        "    def __getitem__(self, index):\n",
        "        # Get the imagename at the given index\n",
        "        filename = self.img_files[index]\n",
        "        # Create the full file path\n",
        "        path = os.path.join(self.img_dir, filename)\n",
        "        # Convert it to RGB\n",
        "        image = Image.open(path).convert(\"RGB\")\n",
        "        # Apply transformations\n",
        "        if self.transform:\n",
        "            image = self.transform(image)\n",
        "        # Return the processed image and original filename\n",
        "        return image, filename"
      ],
      "metadata": {
        "id": "3CEKQtfWZBm0"
      },
      "execution_count": null,
      "outputs": []
    },
    {
      "cell_type": "code",
      "source": [
        "# Path to the folder containing images\n",
        "unlabeled_path = \"/content/drive/MyDrive/Colab Notebooks/images\"\n",
        "# Create the dataset using Unlabeled_Dataset Classs\n",
        "unlabeled_dataset = Unlabeled_Dataset(unlabeled_path, transform=image_transforms)\n",
        "# Create a DataLoader to load images\n",
        "loader = DataLoader(unlabeled_dataset, batch_size=1, shuffle=False)\n",
        "\n",
        "# empty list to store predictions\n",
        "predictions = []\n",
        "\n",
        "# Model to evaluation mode\n",
        "cnn_model.eval()\n",
        "# Disable gradient computation\n",
        "with torch.no_grad():\n",
        "    for imgs, names in loader:\n",
        "        # Move image tensor to GPU or CPU\n",
        "        imgs = imgs.to(device)\n",
        "        # pass through the model\n",
        "        outputs = cnn_model(imgs)\n",
        "        # Get the predicted class index\n",
        "        _, pred_class = torch.max(outputs, 1)\n",
        "        # Convert predicted index to label name\n",
        "        label_name = index_to_label[pred_class.item()]\n",
        "        # Append the predictions to list\n",
        "        predictions.append((names[0], label_name))"
      ],
      "metadata": {
        "id": "qJNfj4zgGzNc"
      },
      "execution_count": null,
      "outputs": []
    },
    {
      "cell_type": "code",
      "source": [
        "# DataFrame from the predictions list\n",
        "pred_df = pd.DataFrame(predictions, columns=[\"Image\", \"Predicted Roof Type\"])\n",
        "# Save a CSV file\n",
        "pred_df.to_csv(\"/content/drive/MyDrive/Colab Notebooks/unlabeled_predictions.csv\", index=False)"
      ],
      "metadata": {
        "id": "QhQGxigfGzQH"
      },
      "execution_count": null,
      "outputs": []
    }
  ]
}